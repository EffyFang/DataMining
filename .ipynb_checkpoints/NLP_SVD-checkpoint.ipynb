{
 "cells": [
  {
   "cell_type": "code",
   "execution_count": 1,
   "metadata": {},
   "outputs": [],
   "source": [
    "import pandas as pd\n",
    "import numpy as np"
   ]
  },
  {
   "cell_type": "code",
   "execution_count": 5,
   "metadata": {},
   "outputs": [
    {
     "data": {
      "text/html": [
       "<div>\n",
       "<style scoped>\n",
       "    .dataframe tbody tr th:only-of-type {\n",
       "        vertical-align: middle;\n",
       "    }\n",
       "\n",
       "    .dataframe tbody tr th {\n",
       "        vertical-align: top;\n",
       "    }\n",
       "\n",
       "    .dataframe thead th {\n",
       "        text-align: right;\n",
       "    }\n",
       "</style>\n",
       "<table border=\"1\" class=\"dataframe\">\n",
       "  <thead>\n",
       "    <tr style=\"text-align: right;\">\n",
       "      <th></th>\n",
       "      <th>Unnamed: 0</th>\n",
       "      <th>fixed acidity</th>\n",
       "      <th>volatile acidity</th>\n",
       "      <th>citric acid</th>\n",
       "      <th>residual sugar</th>\n",
       "      <th>chlorides</th>\n",
       "      <th>free sulfur dioxide</th>\n",
       "      <th>total sulfur dioxide</th>\n",
       "      <th>density</th>\n",
       "      <th>pH</th>\n",
       "      <th>sulphates</th>\n",
       "      <th>alcohol</th>\n",
       "      <th>quality</th>\n",
       "      <th>review</th>\n",
       "    </tr>\n",
       "  </thead>\n",
       "  <tbody>\n",
       "    <tr>\n",
       "      <th>0</th>\n",
       "      <td>0</td>\n",
       "      <td>7.4</td>\n",
       "      <td>0.70</td>\n",
       "      <td>0.00</td>\n",
       "      <td>1.9</td>\n",
       "      <td>0.076</td>\n",
       "      <td>11.0</td>\n",
       "      <td>34.0</td>\n",
       "      <td>0.9978</td>\n",
       "      <td>3.51</td>\n",
       "      <td>0.56</td>\n",
       "      <td>9.4</td>\n",
       "      <td>5</td>\n",
       "      <td>This terroir-driven Pinot, from the Oregon sid...</td>\n",
       "    </tr>\n",
       "    <tr>\n",
       "      <th>1</th>\n",
       "      <td>1</td>\n",
       "      <td>7.8</td>\n",
       "      <td>0.88</td>\n",
       "      <td>0.00</td>\n",
       "      <td>2.6</td>\n",
       "      <td>0.098</td>\n",
       "      <td>25.0</td>\n",
       "      <td>67.0</td>\n",
       "      <td>0.9968</td>\n",
       "      <td>3.20</td>\n",
       "      <td>0.68</td>\n",
       "      <td>9.8</td>\n",
       "      <td>5</td>\n",
       "      <td>Simple and fruity, with chocolate, cherry, lic...</td>\n",
       "    </tr>\n",
       "    <tr>\n",
       "      <th>2</th>\n",
       "      <td>2</td>\n",
       "      <td>7.8</td>\n",
       "      <td>0.76</td>\n",
       "      <td>0.04</td>\n",
       "      <td>2.3</td>\n",
       "      <td>0.092</td>\n",
       "      <td>15.0</td>\n",
       "      <td>54.0</td>\n",
       "      <td>0.9970</td>\n",
       "      <td>3.26</td>\n",
       "      <td>0.65</td>\n",
       "      <td>9.8</td>\n",
       "      <td>5</td>\n",
       "      <td>Hendry Vineyard Zinfandels are among Napa's be...</td>\n",
       "    </tr>\n",
       "    <tr>\n",
       "      <th>3</th>\n",
       "      <td>3</td>\n",
       "      <td>11.2</td>\n",
       "      <td>0.28</td>\n",
       "      <td>0.56</td>\n",
       "      <td>1.9</td>\n",
       "      <td>0.075</td>\n",
       "      <td>17.0</td>\n",
       "      <td>60.0</td>\n",
       "      <td>0.9980</td>\n",
       "      <td>3.16</td>\n",
       "      <td>0.58</td>\n",
       "      <td>9.8</td>\n",
       "      <td>6</td>\n",
       "      <td>84-86 Barrel sample. An over juicy wine, the f...</td>\n",
       "    </tr>\n",
       "    <tr>\n",
       "      <th>4</th>\n",
       "      <td>4</td>\n",
       "      <td>7.4</td>\n",
       "      <td>0.70</td>\n",
       "      <td>0.00</td>\n",
       "      <td>1.9</td>\n",
       "      <td>0.076</td>\n",
       "      <td>11.0</td>\n",
       "      <td>34.0</td>\n",
       "      <td>0.9978</td>\n",
       "      <td>3.51</td>\n",
       "      <td>0.56</td>\n",
       "      <td>9.4</td>\n",
       "      <td>5</td>\n",
       "      <td>Wood gives complexity to the wine's rich, soft...</td>\n",
       "    </tr>\n",
       "  </tbody>\n",
       "</table>\n",
       "</div>"
      ],
      "text/plain": [
       "   Unnamed: 0  fixed acidity  volatile acidity  citric acid  residual sugar  \\\n",
       "0           0            7.4              0.70         0.00             1.9   \n",
       "1           1            7.8              0.88         0.00             2.6   \n",
       "2           2            7.8              0.76         0.04             2.3   \n",
       "3           3           11.2              0.28         0.56             1.9   \n",
       "4           4            7.4              0.70         0.00             1.9   \n",
       "\n",
       "   chlorides  free sulfur dioxide  total sulfur dioxide  density    pH  \\\n",
       "0      0.076                 11.0                  34.0   0.9978  3.51   \n",
       "1      0.098                 25.0                  67.0   0.9968  3.20   \n",
       "2      0.092                 15.0                  54.0   0.9970  3.26   \n",
       "3      0.075                 17.0                  60.0   0.9980  3.16   \n",
       "4      0.076                 11.0                  34.0   0.9978  3.51   \n",
       "\n",
       "   sulphates  alcohol  quality  \\\n",
       "0       0.56      9.4        5   \n",
       "1       0.68      9.8        5   \n",
       "2       0.65      9.8        5   \n",
       "3       0.58      9.8        6   \n",
       "4       0.56      9.4        5   \n",
       "\n",
       "                                              review  \n",
       "0  This terroir-driven Pinot, from the Oregon sid...  \n",
       "1  Simple and fruity, with chocolate, cherry, lic...  \n",
       "2  Hendry Vineyard Zinfandels are among Napa's be...  \n",
       "3  84-86 Barrel sample. An over juicy wine, the f...  \n",
       "4  Wood gives complexity to the wine's rich, soft...  "
      ]
     },
     "execution_count": 5,
     "metadata": {},
     "output_type": "execute_result"
    }
   ],
   "source": [
    "red = pd.read_csv('red_wine_with_review.csv',sep=',')\n",
    "red.head()"
   ]
  },
  {
   "cell_type": "code",
   "execution_count": 7,
   "metadata": {},
   "outputs": [
    {
     "data": {
      "text/plain": [
       "and     4337\n",
       "the     2168\n",
       "a       1949\n",
       "of      1939\n",
       "with    1530\n",
       "is      1171\n",
       "this     779\n",
       "in       752\n",
       "to       701\n",
       "wine     661\n",
       "dtype: int64"
      ]
     },
     "execution_count": 7,
     "metadata": {},
     "output_type": "execute_result"
    }
   ],
   "source": [
    "frequency = pd.Series(' '.join(red['review']).split()).value_counts()[:10]\n",
    "frequency"
   ]
  },
  {
   "cell_type": "code",
   "execution_count": 59,
   "metadata": {},
   "outputs": [],
   "source": [
    "from sklearn.feature_extraction.text import TfidfVectorizer\n",
    "\n",
    "#Feature Transformation\n",
    "\n",
    "tfidf_vectorizer = TfidfVectorizer(max_features= 20,stop_words = 'english',strip_accents = 'unicode')\n",
    "tfidf = tfidf_vectorizer.fit(red['review'])"
   ]
  },
  {
   "cell_type": "code",
   "execution_count": 60,
   "metadata": {},
   "outputs": [
    {
     "name": "stdout",
     "output_type": "stream",
     "text": [
      "['acidity', 'aromas', 'berry', 'black', 'cherry', 'drink', 'dry', 'finish', 'flavors', 'fruit', 'notes', 'oak', 'palate', 'red', 'rich', 'ripe', 'spice', 'sweet', 'tannins', 'wine']\n"
     ]
    }
   ],
   "source": [
    "features = tfidf.get_feature_names()\n",
    "print(features)"
   ]
  },
  {
   "cell_type": "code",
   "execution_count": 42,
   "metadata": {},
   "outputs": [
    {
     "data": {
      "text/plain": [
       "0    This terroir-driven Pinot, from the Oregon sid...\n",
       "1    Simple and fruity, with chocolate, cherry, lic...\n",
       "2    Hendry Vineyard Zinfandels are among Napa's be...\n",
       "4    Wood gives complexity to the wine's rich, soft...\n",
       "5    With French winemaker Jean-Hugues Gros (who us...\n",
       "Name: review, dtype: object"
      ]
     },
     "execution_count": 42,
     "metadata": {},
     "output_type": "execute_result"
    }
   ],
   "source": [
    "review5 = red[(red['quality']==5)]['review']\n",
    "review5.head()"
   ]
  },
  {
   "cell_type": "code",
   "execution_count": 43,
   "metadata": {},
   "outputs": [
    {
     "name": "stdout",
     "output_type": "stream",
     "text": [
      "['acidity', 'aromas', 'black', 'cherry', 'drink', 'dry', 'finish', 'flavors', 'fruit', 'notes', 'oak', 'palate', 'red', 'rich', 'ripe', 'soft', 'spice', 'sweet', 'tannins', 'wine']\n"
     ]
    }
   ],
   "source": [
    "tfidf5 = tfidf_vectorizer.fit(review5)\n",
    "features5 = tfidf5.get_feature_names()\n",
    "print(features5)"
   ]
  },
  {
   "cell_type": "code",
   "execution_count": 44,
   "metadata": {},
   "outputs": [
    {
     "data": {
      "text/plain": [
       "459    Ripe mango, peach and pineapple all come toget...\n",
       "517    Citrus, buttercream, spice and smoke mark this...\n",
       "690    Terre del Cereolo is a very spicy and smoky ex...\n",
       "832    This is a concentrated wine, with medicinal an...\n",
       "899    A soft, almond-flavored wine packed with sweet...\n",
       "Name: review, dtype: object"
      ]
     },
     "execution_count": 44,
     "metadata": {},
     "output_type": "execute_result"
    }
   ],
   "source": [
    "review3 = red[(red['quality']==3)]['review']\n",
    "review3.head()"
   ]
  },
  {
   "cell_type": "code",
   "execution_count": 45,
   "metadata": {},
   "outputs": [
    {
     "name": "stdout",
     "output_type": "stream",
     "text": [
      "['balanced', 'berry', 'citrus', 'clean', 'delivers', 'firm', 'flavors', 'fruit', 'pineapple', 'plum', 'rich', 'ripe', 'round', 'shows', 'soft', 'spice', 'spicy', 'style', 'tannins', 'wine']\n"
     ]
    }
   ],
   "source": [
    "tfidf3 = tfidf_vectorizer.fit(review3)\n",
    "features3 = tfidf3.get_feature_names()\n",
    "print(features3)"
   ]
  },
  {
   "cell_type": "code",
   "execution_count": 46,
   "metadata": {},
   "outputs": [
    {
     "name": "stdout",
     "output_type": "stream",
     "text": [
      "['acidity', 'character', 'cherry', 'complex', 'creamy', 'dry', 'finish', 'flavors', 'followed', 'fresh', 'fruit', 'light', 'nose', 'red', 'rich', 'ripe', 'style', 'sweet', 'tannins', 'wine']\n"
     ]
    }
   ],
   "source": [
    "review8 = red[(red['quality']==8)]['review']\n",
    "tfidf8 = tfidf_vectorizer.fit(review8)\n",
    "features8 = tfidf8.get_feature_names()\n",
    "print(features8)"
   ]
  },
  {
   "cell_type": "code",
   "execution_count": 56,
   "metadata": {},
   "outputs": [
    {
     "name": "stdout",
     "output_type": "stream",
     "text": [
      "{'notes', 'nose', 'complex', 'aromas', 'soft', 'creamy', 'fresh', 'palate', 'spice', 'light', 'style', 'drink', 'character', 'oak', 'black', 'followed'}\n"
     ]
    }
   ],
   "source": [
    "unique = set(features8).symmetric_difference( set(features5) )\n",
    "print(unique)"
   ]
  },
  {
   "cell_type": "code",
   "execution_count": null,
   "metadata": {},
   "outputs": [],
   "source": []
  },
  {
   "cell_type": "code",
   "execution_count": 47,
   "metadata": {},
   "outputs": [
    {
     "name": "stdout",
     "output_type": "stream",
     "text": [
      "[3 7 7 ... 2 7 5]\n"
     ]
    }
   ],
   "source": [
    "from sklearn.decomposition import TruncatedSVD\n",
    "from sklearn.cluster import KMeans\n",
    "from sklearn.pipeline import make_pipeline\n",
    "\n",
    "tfidf_trans = tfidf_vectorizer.fit_transform(red['review'])\n",
    "\n",
    "# Create a TruncatedSVD instance: svd\n",
    "svd = TruncatedSVD(n_components=10)\n",
    "\n",
    "# Create a KMeans instance: kmeans\n",
    "kmeans = KMeans(n_clusters=8)\n",
    "\n",
    "# Create a pipeline: pipeline\n",
    "pipeline = make_pipeline(svd, kmeans)\n",
    "\n",
    "# Fit\n",
    "pipeline.fit(tfidf_trans)\n",
    "\n",
    "# Calculate the cluster labels: labels\n",
    "labels = pipeline.predict(tfidf_trans)\n",
    "\n",
    "print(labels)"
   ]
  },
  {
   "cell_type": "code",
   "execution_count": 50,
   "metadata": {},
   "outputs": [
    {
     "name": "stdout",
     "output_type": "stream",
     "text": [
      "      label  quality                                             review\n",
      "752       0        5  Fragrant and liquorous, this opens with scents...\n",
      "510       0        5  Fully mature now, although it still has a good...\n",
      "1030      0        7  Here's a decidedly uncomplicated expression of...\n",
      "504       0        7  Good and ripe, offering a mouthburst of cherri...\n",
      "1035      0        7  An 85% Zinfandel with smaller amounts of Petit...\n",
      "...     ...      ...                                                ...\n",
      "507       7        6  Nice and balanced, an elegant Zin with classic...\n",
      "1235      7        4  Shy and clean on the nose, which offers up onl...\n",
      "114       7        5  The word No refers to no oak and no malolactic...\n",
      "1456      7        6  Huge, ripe flavors of blackberry and plum jam,...\n",
      "1117      7        6  This wine smells immediately fresh and tart, w...\n",
      "\n",
      "[1599 rows x 3 columns]\n"
     ]
    }
   ],
   "source": [
    "df = pd.DataFrame({'label': labels, 'quality': red['quality'],'review':red['review']})\n",
    "print(df.sort_values('label'))"
   ]
  },
  {
   "cell_type": "code",
   "execution_count": null,
   "metadata": {},
   "outputs": [],
   "source": []
  }
 ],
 "metadata": {
  "kernelspec": {
   "display_name": "Python 3",
   "language": "python",
   "name": "python3"
  },
  "language_info": {
   "codemirror_mode": {
    "name": "ipython",
    "version": 3
   },
   "file_extension": ".py",
   "mimetype": "text/x-python",
   "name": "python",
   "nbconvert_exporter": "python",
   "pygments_lexer": "ipython3",
   "version": "3.7.1"
  }
 },
 "nbformat": 4,
 "nbformat_minor": 2
}
